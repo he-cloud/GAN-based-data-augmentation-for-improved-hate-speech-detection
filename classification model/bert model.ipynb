{
 "cells": [
  {
   "cell_type": "code",
   "execution_count": 1,
   "metadata": {},
   "outputs": [],
   "source": [
    "import pandas as pd\n",
    "df = pd.read_csv('C:\\\\gab\\\\train.csv',\n",
    "                   sep=',', \n",
    "                   header=None, \n",
    "                   names=['article', 'label'],\n",
    "                   encoding='ISO-8859-1')\n",
    "df1 = pd.read_csv('C:\\\\gab\\\\test.csv',\n",
    "                   sep=',', \n",
    "                   header=None, \n",
    "                   names=['article', 'label'],\n",
    "                   encoding='ISO-8859-1')\n",
    "df2 = pd.read_csv('C:\\\\gab\\\\dev.csv',\n",
    "                   sep=',', \n",
    "                   header=None, \n",
    "                   names=['article', 'label'],\n",
    "                   encoding='ISO-8859-1')"
   ]
  },
  {
   "cell_type": "code",
   "execution_count": 2,
   "metadata": {},
   "outputs": [
    {
     "data": {
      "text/plain": [
       "(19093, 2)"
      ]
     },
     "execution_count": 2,
     "metadata": {},
     "output_type": "execute_result"
    }
   ],
   "source": [
    "df.shape"
   ]
  },
  {
   "cell_type": "code",
   "execution_count": 3,
   "metadata": {},
   "outputs": [
    {
     "data": {
      "text/plain": [
       "(4133, 2)"
      ]
     },
     "execution_count": 3,
     "metadata": {},
     "output_type": "execute_result"
    }
   ],
   "source": [
    "df1.shape"
   ]
  },
  {
   "cell_type": "code",
   "execution_count": 4,
   "metadata": {},
   "outputs": [
    {
     "data": {
      "text/plain": [
       "(4052, 2)"
      ]
     },
     "execution_count": 4,
     "metadata": {},
     "output_type": "execute_result"
    }
   ],
   "source": [
    "df2.shape"
   ]
  },
  {
   "cell_type": "code",
   "execution_count": 5,
   "metadata": {},
   "outputs": [
    {
     "data": {
      "text/html": [
       "<div>\n",
       "<style scoped>\n",
       "    .dataframe tbody tr th:only-of-type {\n",
       "        vertical-align: middle;\n",
       "    }\n",
       "\n",
       "    .dataframe tbody tr th {\n",
       "        vertical-align: top;\n",
       "    }\n",
       "\n",
       "    .dataframe thead th {\n",
       "        text-align: right;\n",
       "    }\n",
       "</style>\n",
       "<table border=\"1\" class=\"dataframe\">\n",
       "  <thead>\n",
       "    <tr style=\"text-align: right;\">\n",
       "      <th></th>\n",
       "      <th>article</th>\n",
       "      <th>label</th>\n",
       "    </tr>\n",
       "  </thead>\n",
       "  <tbody>\n",
       "    <tr>\n",
       "      <th>0</th>\n",
       "      <td>What's wrong with that? It's History you know....</td>\n",
       "      <td>0</td>\n",
       "    </tr>\n",
       "    <tr>\n",
       "      <th>1</th>\n",
       "      <td>Switzerland, I'm guessing ? if so, an outlier ...</td>\n",
       "      <td>0</td>\n",
       "    </tr>\n",
       "    <tr>\n",
       "      <th>2</th>\n",
       "      <td>What are they selling ? Are? they trying to? m...</td>\n",
       "      <td>0</td>\n",
       "    </tr>\n",
       "    <tr>\n",
       "      <th>3</th>\n",
       "      <td>http://bit.do/b7ndm: Dr. Paul Powers is back i...</td>\n",
       "      <td>0</td>\n",
       "    </tr>\n",
       "    <tr>\n",
       "      <th>4</th>\n",
       "      <td>@support? the prompt for browser notifications...</td>\n",
       "      <td>0</td>\n",
       "    </tr>\n",
       "    <tr>\n",
       "      <th>5</th>\n",
       "      <td>I really hope against all hope, that Sessions ...</td>\n",
       "      <td>0</td>\n",
       "    </tr>\n",
       "    <tr>\n",
       "      <th>6</th>\n",
       "      <td>Italy: Mass Deportation Of Migrants May Start ...</td>\n",
       "      <td>0</td>\n",
       "    </tr>\n",
       "    <tr>\n",
       "      <th>7</th>\n",
       "      <td>A Sith Lord's level of mental illness...</td>\n",
       "      <td>0</td>\n",
       "    </tr>\n",
       "    <tr>\n",
       "      <th>8</th>\n",
       "      <td>I don't endorse any of the links on this site,...</td>\n",
       "      <td>0</td>\n",
       "    </tr>\n",
       "    <tr>\n",
       "      <th>9</th>\n",
       "      <td>Maybe it's me being a bit jaded because I'm in...</td>\n",
       "      <td>0</td>\n",
       "    </tr>\n",
       "  </tbody>\n",
       "</table>\n",
       "</div>"
      ],
      "text/plain": [
       "                                             article  label\n",
       "0  What's wrong with that? It's History you know....      0\n",
       "1  Switzerland, I'm guessing ? if so, an outlier ...      0\n",
       "2  What are they selling ? Are? they trying to? m...      0\n",
       "3  http://bit.do/b7ndm: Dr. Paul Powers is back i...      0\n",
       "4  @support? the prompt for browser notifications...      0\n",
       "5  I really hope against all hope, that Sessions ...      0\n",
       "6  Italy: Mass Deportation Of Migrants May Start ...      0\n",
       "7           A Sith Lord's level of mental illness...      0\n",
       "8  I don't endorse any of the links on this site,...      0\n",
       "9  Maybe it's me being a bit jaded because I'm in...      0"
      ]
     },
     "execution_count": 5,
     "metadata": {},
     "output_type": "execute_result"
    }
   ],
   "source": [
    "\n",
    "df.head(10)"
   ]
  },
  {
   "cell_type": "code",
   "execution_count": 6,
   "metadata": {},
   "outputs": [
    {
     "data": {
      "text/html": [
       "<div>\n",
       "<style scoped>\n",
       "    .dataframe tbody tr th:only-of-type {\n",
       "        vertical-align: middle;\n",
       "    }\n",
       "\n",
       "    .dataframe tbody tr th {\n",
       "        vertical-align: top;\n",
       "    }\n",
       "\n",
       "    .dataframe thead th {\n",
       "        text-align: right;\n",
       "    }\n",
       "</style>\n",
       "<table border=\"1\" class=\"dataframe\">\n",
       "  <thead>\n",
       "    <tr style=\"text-align: right;\">\n",
       "      <th></th>\n",
       "      <th>article</th>\n",
       "      <th>label</th>\n",
       "    </tr>\n",
       "  </thead>\n",
       "  <tbody>\n",
       "    <tr>\n",
       "      <th>0</th>\n",
       "      <td>Please go to Dane's website at www.geoengineer...</td>\n",
       "      <td>0</td>\n",
       "    </tr>\n",
       "    <tr>\n",
       "      <th>1</th>\n",
       "      <td>Anybody else sick of online product launch vid...</td>\n",
       "      <td>1</td>\n",
       "    </tr>\n",
       "    <tr>\n",
       "      <th>2</th>\n",
       "      <td>Hold on #GabFam I am just getting warm, blowin...</td>\n",
       "      <td>0</td>\n",
       "    </tr>\n",
       "    <tr>\n",
       "      <th>3</th>\n",
       "      <td>Democrat Party exists for the media's globalis...</td>\n",
       "      <td>0</td>\n",
       "    </tr>\n",
       "    <tr>\n",
       "      <th>4</th>\n",
       "      <td>Relegion of open and 'lawful' child sexual abu...</td>\n",
       "      <td>1</td>\n",
       "    </tr>\n",
       "    <tr>\n",
       "      <th>5</th>\n",
       "      <td>https://www.bitchute.com/video/not1pbGQA9uE/  ...</td>\n",
       "      <td>0</td>\n",
       "    </tr>\n",
       "    <tr>\n",
       "      <th>6</th>\n",
       "      <td>Can't wait to see former Tory MP's crying woe ...</td>\n",
       "      <td>0</td>\n",
       "    </tr>\n",
       "    <tr>\n",
       "      <th>7</th>\n",
       "      <td>There's a phrase being used right now that I t...</td>\n",
       "      <td>0</td>\n",
       "    </tr>\n",
       "    <tr>\n",
       "      <th>8</th>\n",
       "      <td>https://rickyrescue.com/florida-state-fire-cer...</td>\n",
       "      <td>0</td>\n",
       "    </tr>\n",
       "    <tr>\n",
       "      <th>9</th>\n",
       "      <td>Look, gun grabbers. I have wasted a lot of bre...</td>\n",
       "      <td>1</td>\n",
       "    </tr>\n",
       "  </tbody>\n",
       "</table>\n",
       "</div>"
      ],
      "text/plain": [
       "                                             article  label\n",
       "0  Please go to Dane's website at www.geoengineer...      0\n",
       "1  Anybody else sick of online product launch vid...      1\n",
       "2  Hold on #GabFam I am just getting warm, blowin...      0\n",
       "3  Democrat Party exists for the media's globalis...      0\n",
       "4  Relegion of open and 'lawful' child sexual abu...      1\n",
       "5  https://www.bitchute.com/video/not1pbGQA9uE/  ...      0\n",
       "6  Can't wait to see former Tory MP's crying woe ...      0\n",
       "7  There's a phrase being used right now that I t...      0\n",
       "8  https://rickyrescue.com/florida-state-fire-cer...      0\n",
       "9  Look, gun grabbers. I have wasted a lot of bre...      1"
      ]
     },
     "execution_count": 6,
     "metadata": {},
     "output_type": "execute_result"
    }
   ],
   "source": [
    "df1.head(10)"
   ]
  },
  {
   "cell_type": "code",
   "execution_count": 7,
   "metadata": {},
   "outputs": [
    {
     "data": {
      "text/html": [
       "<div>\n",
       "<style scoped>\n",
       "    .dataframe tbody tr th:only-of-type {\n",
       "        vertical-align: middle;\n",
       "    }\n",
       "\n",
       "    .dataframe tbody tr th {\n",
       "        vertical-align: top;\n",
       "    }\n",
       "\n",
       "    .dataframe thead th {\n",
       "        text-align: right;\n",
       "    }\n",
       "</style>\n",
       "<table border=\"1\" class=\"dataframe\">\n",
       "  <thead>\n",
       "    <tr style=\"text-align: right;\">\n",
       "      <th></th>\n",
       "      <th>article</th>\n",
       "      <th>label</th>\n",
       "    </tr>\n",
       "  </thead>\n",
       "  <tbody>\n",
       "    <tr>\n",
       "      <th>0</th>\n",
       "      <td>Lewis's brother, Charles, King of Italy (also ...</td>\n",
       "      <td>0</td>\n",
       "    </tr>\n",
       "    <tr>\n",
       "      <th>1</th>\n",
       "      <td>I hope the person who invented wallpaper is ex...</td>\n",
       "      <td>0</td>\n",
       "    </tr>\n",
       "    <tr>\n",
       "      <th>2</th>\n",
       "      <td>Same reason we never told you about the \"Holoc...</td>\n",
       "      <td>0</td>\n",
       "    </tr>\n",
       "    <tr>\n",
       "      <th>3</th>\n",
       "      <td>Anamorph - A game of perspective. The fun of a...</td>\n",
       "      <td>0</td>\n",
       "    </tr>\n",
       "    <tr>\n",
       "      <th>4</th>\n",
       "      <td>Yes he should he is working against the Presid...</td>\n",
       "      <td>0</td>\n",
       "    </tr>\n",
       "    <tr>\n",
       "      <th>5</th>\n",
       "      <td>What does ¡®acting like Californians¡¯ mean?</td>\n",
       "      <td>0</td>\n",
       "    </tr>\n",
       "    <tr>\n",
       "      <th>6</th>\n",
       "      <td>I guess I'll do a small rundown from the stuff...</td>\n",
       "      <td>0</td>\n",
       "    </tr>\n",
       "    <tr>\n",
       "      <th>7</th>\n",
       "      <td>He is still ignoring the communists... except ...</td>\n",
       "      <td>0</td>\n",
       "    </tr>\n",
       "    <tr>\n",
       "      <th>8</th>\n",
       "      <td>Radio Derb Transcript Up: Explaining Discharge...</td>\n",
       "      <td>0</td>\n",
       "    </tr>\n",
       "    <tr>\n",
       "      <th>9</th>\n",
       "      <td>found it.    http://www.whsports.se    channel...</td>\n",
       "      <td>0</td>\n",
       "    </tr>\n",
       "  </tbody>\n",
       "</table>\n",
       "</div>"
      ],
      "text/plain": [
       "                                             article  label\n",
       "0  Lewis's brother, Charles, King of Italy (also ...      0\n",
       "1  I hope the person who invented wallpaper is ex...      0\n",
       "2  Same reason we never told you about the \"Holoc...      0\n",
       "3  Anamorph - A game of perspective. The fun of a...      0\n",
       "4  Yes he should he is working against the Presid...      0\n",
       "5       What does ¡®acting like Californians¡¯ mean?      0\n",
       "6  I guess I'll do a small rundown from the stuff...      0\n",
       "7  He is still ignoring the communists... except ...      0\n",
       "8  Radio Derb Transcript Up: Explaining Discharge...      0\n",
       "9  found it.    http://www.whsports.se    channel...      0"
      ]
     },
     "execution_count": 7,
     "metadata": {},
     "output_type": "execute_result"
    }
   ],
   "source": [
    "df2.head(10)"
   ]
  },
  {
   "cell_type": "code",
   "execution_count": 8,
   "metadata": {},
   "outputs": [
    {
     "data": {
      "text/html": [
       "<div>\n",
       "<style scoped>\n",
       "    .dataframe tbody tr th:only-of-type {\n",
       "        vertical-align: middle;\n",
       "    }\n",
       "\n",
       "    .dataframe tbody tr th {\n",
       "        vertical-align: top;\n",
       "    }\n",
       "\n",
       "    .dataframe thead th {\n",
       "        text-align: right;\n",
       "    }\n",
       "</style>\n",
       "<table border=\"1\" class=\"dataframe\">\n",
       "  <thead>\n",
       "    <tr style=\"text-align: right;\">\n",
       "      <th></th>\n",
       "      <th>label</th>\n",
       "    </tr>\n",
       "  </thead>\n",
       "  <tbody>\n",
       "    <tr>\n",
       "      <th>0</th>\n",
       "      <td>16898</td>\n",
       "    </tr>\n",
       "    <tr>\n",
       "      <th>1</th>\n",
       "      <td>2195</td>\n",
       "    </tr>\n",
       "  </tbody>\n",
       "</table>\n",
       "</div>"
      ],
      "text/plain": [
       "   label\n",
       "0  16898\n",
       "1   2195"
      ]
     },
     "execution_count": 8,
     "metadata": {},
     "output_type": "execute_result"
    }
   ],
   "source": [
    "\n",
    "label_counts = pd.DataFrame(df['label'].value_counts())\n",
    "label_counts"
   ]
  },
  {
   "cell_type": "code",
   "execution_count": 9,
   "metadata": {},
   "outputs": [
    {
     "data": {
      "text/html": [
       "<div>\n",
       "<style scoped>\n",
       "    .dataframe tbody tr th:only-of-type {\n",
       "        vertical-align: middle;\n",
       "    }\n",
       "\n",
       "    .dataframe tbody tr th {\n",
       "        vertical-align: top;\n",
       "    }\n",
       "\n",
       "    .dataframe thead th {\n",
       "        text-align: right;\n",
       "    }\n",
       "</style>\n",
       "<table border=\"1\" class=\"dataframe\">\n",
       "  <thead>\n",
       "    <tr style=\"text-align: right;\">\n",
       "      <th></th>\n",
       "      <th>label</th>\n",
       "    </tr>\n",
       "  </thead>\n",
       "  <tbody>\n",
       "    <tr>\n",
       "      <th>0</th>\n",
       "      <td>3658</td>\n",
       "    </tr>\n",
       "    <tr>\n",
       "      <th>1</th>\n",
       "      <td>475</td>\n",
       "    </tr>\n",
       "  </tbody>\n",
       "</table>\n",
       "</div>"
      ],
      "text/plain": [
       "   label\n",
       "0   3658\n",
       "1    475"
      ]
     },
     "execution_count": 9,
     "metadata": {},
     "output_type": "execute_result"
    }
   ],
   "source": [
    "label_counts = pd.DataFrame(df1['label'].value_counts())\n",
    "label_counts"
   ]
  },
  {
   "cell_type": "code",
   "execution_count": 10,
   "metadata": {},
   "outputs": [
    {
     "data": {
      "text/html": [
       "<div>\n",
       "<style scoped>\n",
       "    .dataframe tbody tr th:only-of-type {\n",
       "        vertical-align: middle;\n",
       "    }\n",
       "\n",
       "    .dataframe tbody tr th {\n",
       "        vertical-align: top;\n",
       "    }\n",
       "\n",
       "    .dataframe thead th {\n",
       "        text-align: right;\n",
       "    }\n",
       "</style>\n",
       "<table border=\"1\" class=\"dataframe\">\n",
       "  <thead>\n",
       "    <tr style=\"text-align: right;\">\n",
       "      <th></th>\n",
       "      <th>label</th>\n",
       "    </tr>\n",
       "  </thead>\n",
       "  <tbody>\n",
       "    <tr>\n",
       "      <th>0</th>\n",
       "      <td>3577</td>\n",
       "    </tr>\n",
       "    <tr>\n",
       "      <th>1</th>\n",
       "      <td>475</td>\n",
       "    </tr>\n",
       "  </tbody>\n",
       "</table>\n",
       "</div>"
      ],
      "text/plain": [
       "   label\n",
       "0   3577\n",
       "1    475"
      ]
     },
     "execution_count": 10,
     "metadata": {},
     "output_type": "execute_result"
    }
   ],
   "source": [
    "label_counts = pd.DataFrame(df2['label'].value_counts())\n",
    "label_counts"
   ]
  },
  {
   "cell_type": "code",
   "execution_count": 11,
   "metadata": {},
   "outputs": [
    {
     "data": {
      "text/plain": [
       "[0, 1]"
      ]
     },
     "execution_count": 11,
     "metadata": {},
     "output_type": "execute_result"
    }
   ],
   "source": [
    "\n",
    "label_values = list(label_counts.index)\n",
    "order = list(pd.DataFrame(df['label'].value_counts()).index)\n",
    "label_values = [l for _,l in sorted(zip(order, label_values))]\n",
    "\n",
    "label_values"
   ]
  },
  {
   "cell_type": "code",
   "execution_count": 12,
   "metadata": {},
   "outputs": [
    {
     "data": {
      "text/plain": [
       "[0, 1]"
      ]
     },
     "execution_count": 12,
     "metadata": {},
     "output_type": "execute_result"
    }
   ],
   "source": [
    "\n",
    "label_values = list(label_counts.index)\n",
    "order = list(pd.DataFrame(df1['label'].value_counts()).index)\n",
    "label_values = [l for _,l in sorted(zip(order, label_values))]\n",
    "\n",
    "label_values"
   ]
  },
  {
   "cell_type": "code",
   "execution_count": 13,
   "metadata": {},
   "outputs": [
    {
     "data": {
      "text/plain": [
       "[0, 1]"
      ]
     },
     "execution_count": 13,
     "metadata": {},
     "output_type": "execute_result"
    }
   ],
   "source": [
    "\n",
    "label_values = list(label_counts.index)\n",
    "order = list(pd.DataFrame(df2['label'].value_counts()).index)\n",
    "label_values = [l for _,l in sorted(zip(order, label_values))]\n",
    "\n",
    "label_values"
   ]
  },
  {
   "cell_type": "code",
   "execution_count": 14,
   "metadata": {},
   "outputs": [],
   "source": [
    "texts = df['article'].values\n",
    "labels = df['label'].values"
   ]
  },
  {
   "cell_type": "code",
   "execution_count": 15,
   "metadata": {},
   "outputs": [],
   "source": [
    "texts1 = df1['article'].values\n",
    "labels1 = df1['label'].values"
   ]
  },
  {
   "cell_type": "code",
   "execution_count": 16,
   "metadata": {},
   "outputs": [],
   "source": [
    "texts2 = df2['article'].values\n",
    "labels2 = df2['label'].values"
   ]
  },
  {
   "cell_type": "code",
   "execution_count": 17,
   "metadata": {},
   "outputs": [
    {
     "name": "stdout",
     "output_type": "stream",
     "text": [
      "1\n",
      "894\n"
     ]
    }
   ],
   "source": [
    "\n",
    "text_lengths = [len(texts[i].split()) for i in range(len(texts))]\n",
    "print(min(text_lengths))\n",
    "print(max(text_lengths))"
   ]
  },
  {
   "cell_type": "code",
   "execution_count": 18,
   "metadata": {},
   "outputs": [
    {
     "name": "stdout",
     "output_type": "stream",
     "text": [
      "1\n",
      "353\n"
     ]
    }
   ],
   "source": [
    "text_lengths1 = [len(texts1[i].split()) for i in range(len(texts1))]\n",
    "print(min(text_lengths1))\n",
    "print(max(text_lengths1))"
   ]
  },
  {
   "cell_type": "code",
   "execution_count": 19,
   "metadata": {},
   "outputs": [
    {
     "name": "stdout",
     "output_type": "stream",
     "text": [
      "1\n",
      "815\n"
     ]
    }
   ],
   "source": [
    "text_lengths2 = [len(texts2[i].split()) for i in range(len(texts2))]\n",
    "print(min(text_lengths2))\n",
    "print(max(text_lengths2))"
   ]
  },
  {
   "cell_type": "code",
   "execution_count": 20,
   "metadata": {},
   "outputs": [
    {
     "data": {
      "text/plain": [
       "7"
      ]
     },
     "execution_count": 20,
     "metadata": {},
     "output_type": "execute_result"
    }
   ],
   "source": [
    "sum([1 for i in range(len(text_lengths)) if text_lengths[i] >= 300])"
   ]
  },
  {
   "cell_type": "code",
   "execution_count": 21,
   "metadata": {},
   "outputs": [
    {
     "data": {
      "text/plain": [
       "1"
      ]
     },
     "execution_count": 21,
     "metadata": {},
     "output_type": "execute_result"
    }
   ],
   "source": [
    "sum([1 for i in range(len(text_lengths1)) if text_lengths1[i] >= 300])"
   ]
  },
  {
   "cell_type": "code",
   "execution_count": 22,
   "metadata": {},
   "outputs": [
    {
     "data": {
      "text/plain": [
       "3"
      ]
     },
     "execution_count": 22,
     "metadata": {},
     "output_type": "execute_result"
    }
   ],
   "source": [
    "sum([1 for i in range(len(text_lengths2)) if text_lengths2[i] >= 300])"
   ]
  },
  {
   "cell_type": "code",
   "execution_count": 23,
   "metadata": {},
   "outputs": [
    {
     "name": "stdout",
     "output_type": "stream",
     "text": [
      "Original Text:  What's wrong with that? It's History you know. Mary Beard told me so and she has a vagina from Oxford. \n",
      "\n",
      "Tokenized Text:  ['what', \"'\", 's', 'wrong', 'with', 'that', '?', 'it', \"'\", 's', 'history', 'you', 'know', '.', 'mary', 'beard', 'told', 'me', 'so', 'and', 'she', 'has', 'a', 'va', '##gina', 'from', 'oxford', '.'] \n",
      "\n",
      "Token IDs:  [2054, 1005, 1055, 3308, 2007, 2008, 1029, 2009, 1005, 1055, 2381, 2017, 2113, 1012, 2984, 10154, 2409, 2033, 2061, 1998, 2016, 2038, 1037, 12436, 20876, 2013, 4345, 1012]\n"
     ]
    }
   ],
   "source": [
    "\n",
    "from transformers import DistilBertTokenizer\n",
    "\n",
    "tokenizer = DistilBertTokenizer.from_pretrained('distilbert-base-uncased', do_lower_case=True)\n",
    "\n",
    "print('Original Text: ', texts[0], '\\n')\n",
    "print('Tokenized Text: ', tokenizer.tokenize(texts[0]), '\\n')\n",
    "print('Token IDs: ', tokenizer.convert_tokens_to_ids(tokenizer.tokenize(texts[0])))"
   ]
  },
  {
   "cell_type": "code",
   "execution_count": 24,
   "metadata": {},
   "outputs": [
    {
     "name": "stdout",
     "output_type": "stream",
     "text": [
      "Original Text:  Please go to Dane's website at www.geoengineering.org and educate yourselves on this global crime, it's your children's, and their children's lives at risk. Thank you.  \n",
      "\n",
      "Tokenized Text:  ['please', 'go', 'to', 'dane', \"'\", 's', 'website', 'at', 'www', '.', 'geo', '##eng', '##ine', '##ering', '.', 'org', 'and', 'educate', 'yourselves', 'on', 'this', 'global', 'crime', ',', 'it', \"'\", 's', 'your', 'children', \"'\", 's', ',', 'and', 'their', 'children', \"'\", 's', 'lives', 'at', 'risk', '.', 'thank', 'you', '.'] \n",
      "\n",
      "Token IDs:  [3531, 2175, 2000, 14569, 1005, 1055, 4037, 2012, 7479, 1012, 20248, 13159, 3170, 7999, 1012, 8917, 1998, 16957, 25035, 2006, 2023, 3795, 4126, 1010, 2009, 1005, 1055, 2115, 2336, 1005, 1055, 1010, 1998, 2037, 2336, 1005, 1055, 3268, 2012, 3891, 1012, 4067, 2017, 1012]\n"
     ]
    }
   ],
   "source": [
    "from transformers import DistilBertTokenizer\n",
    "\n",
    "tokenizer = DistilBertTokenizer.from_pretrained('distilbert-base-uncased', do_lower_case=True)\n",
    "\n",
    "print('Original Text: ', texts1[0], '\\n')\n",
    "print('Tokenized Text: ', tokenizer.tokenize(texts1[0]), '\\n')\n",
    "print('Token IDs: ', tokenizer.convert_tokens_to_ids(tokenizer.tokenize(texts1[0])))"
   ]
  },
  {
   "cell_type": "code",
   "execution_count": 25,
   "metadata": {},
   "outputs": [
    {
     "name": "stdout",
     "output_type": "stream",
     "text": [
      "Original Text:  Lewis's brother, Charles, King of Italy (also known as Charles the Fat, as he was an obese slob) sat by idly while all this was happening and did nothing.? The Pope gave him the title of Emperor, hoping he this would spur him to action, but still he did nothing.? When Lewis died, Charles became ruler over his lands as well.? Messengers hastened to him, begging him to come save his people from d... \n",
      "\n",
      "Tokenized Text:  ['lewis', \"'\", 's', 'brother', ',', 'charles', ',', 'king', 'of', 'italy', '(', 'also', 'known', 'as', 'charles', 'the', 'fat', ',', 'as', 'he', 'was', 'an', 'obe', '##se', 'sl', '##ob', ')', 'sat', 'by', 'id', '##ly', 'while', 'all', 'this', 'was', 'happening', 'and', 'did', 'nothing', '.', '?', 'the', 'pope', 'gave', 'him', 'the', 'title', 'of', 'emperor', ',', 'hoping', 'he', 'this', 'would', 'spur', 'him', 'to', 'action', ',', 'but', 'still', 'he', 'did', 'nothing', '.', '?', 'when', 'lewis', 'died', ',', 'charles', 'became', 'ruler', 'over', 'his', 'lands', 'as', 'well', '.', '?', 'messengers', 'haste', '##ned', 'to', 'him', ',', 'begging', 'him', 'to', 'come', 'save', 'his', 'people', 'from', 'd', '.', '.', '.'] \n",
      "\n",
      "Token IDs:  [4572, 1005, 1055, 2567, 1010, 2798, 1010, 2332, 1997, 3304, 1006, 2036, 2124, 2004, 2798, 1996, 6638, 1010, 2004, 2002, 2001, 2019, 15578, 3366, 22889, 16429, 1007, 2938, 2011, 8909, 2135, 2096, 2035, 2023, 2001, 6230, 1998, 2106, 2498, 1012, 1029, 1996, 4831, 2435, 2032, 1996, 2516, 1997, 3750, 1010, 5327, 2002, 2023, 2052, 12996, 2032, 2000, 2895, 1010, 2021, 2145, 2002, 2106, 2498, 1012, 1029, 2043, 4572, 2351, 1010, 2798, 2150, 7786, 2058, 2010, 4915, 2004, 2092, 1012, 1029, 28938, 24748, 7228, 2000, 2032, 1010, 12858, 2032, 2000, 2272, 3828, 2010, 2111, 2013, 1040, 1012, 1012, 1012]\n"
     ]
    }
   ],
   "source": [
    "from transformers import DistilBertTokenizer\n",
    "\n",
    "tokenizer = DistilBertTokenizer.from_pretrained('distilbert-base-uncased', do_lower_case=True)\n",
    "\n",
    "print('Original Text: ', texts2[0], '\\n')\n",
    "print('Tokenized Text: ', tokenizer.tokenize(texts2[0]), '\\n')\n",
    "print('Token IDs: ', tokenizer.convert_tokens_to_ids(tokenizer.tokenize(texts2[0])))"
   ]
  },
  {
   "cell_type": "code",
   "execution_count": 26,
   "metadata": {},
   "outputs": [
    {
     "name": "stderr",
     "output_type": "stream",
     "text": [
      "Truncation was not explicitly activated but `max_length` is provided a specific value, please use `truncation=True` to explicitly truncate examples to max length. Defaulting to 'longest_first' truncation strategy. If you encode pairs of sequences (GLUE-style) with the tokenizer you can select this strategy more precisely by providing a specific strategy to `truncation`.\n",
      "c:\\users\\dell\\appdata\\local\\programs\\python\\python37\\lib\\site-packages\\transformers\\tokenization_utils_base.py:2143: FutureWarning: The `pad_to_max_length` argument is deprecated and will be removed in a future version, use `padding=True` or `padding='longest'` to pad to the longest sequence in the batch, or use `padding='max_length'` to pad to a max length. In this case, you can give a specific length with `max_length` (e.g. `max_length=45`) or leave max_length to None to pad to the maximal input size of the model (e.g. 512 for Bert).\n",
      "  FutureWarning,\n"
     ]
    },
    {
     "data": {
      "text/plain": [
       "[101,\n",
       " 2054,\n",
       " 1005,\n",
       " 1055,\n",
       " 3308,\n",
       " 2007,\n",
       " 2008,\n",
       " 1029,\n",
       " 2009,\n",
       " 1005,\n",
       " 1055,\n",
       " 2381,\n",
       " 2017,\n",
       " 2113,\n",
       " 1012,\n",
       " 2984,\n",
       " 10154,\n",
       " 2409,\n",
       " 2033,\n",
       " 2061,\n",
       " 1998,\n",
       " 2016,\n",
       " 2038,\n",
       " 1037,\n",
       " 12436,\n",
       " 20876,\n",
       " 2013,\n",
       " 4345,\n",
       " 1012,\n",
       " 102,\n",
       " 0,\n",
       " 0,\n",
       " 0,\n",
       " 0,\n",
       " 0,\n",
       " 0,\n",
       " 0,\n",
       " 0,\n",
       " 0,\n",
       " 0,\n",
       " 0,\n",
       " 0,\n",
       " 0,\n",
       " 0,\n",
       " 0,\n",
       " 0,\n",
       " 0,\n",
       " 0,\n",
       " 0,\n",
       " 0,\n",
       " 0,\n",
       " 0,\n",
       " 0,\n",
       " 0,\n",
       " 0,\n",
       " 0,\n",
       " 0,\n",
       " 0,\n",
       " 0,\n",
       " 0,\n",
       " 0,\n",
       " 0,\n",
       " 0,\n",
       " 0,\n",
       " 0,\n",
       " 0,\n",
       " 0,\n",
       " 0,\n",
       " 0,\n",
       " 0,\n",
       " 0,\n",
       " 0,\n",
       " 0,\n",
       " 0,\n",
       " 0,\n",
       " 0,\n",
       " 0,\n",
       " 0,\n",
       " 0,\n",
       " 0,\n",
       " 0,\n",
       " 0,\n",
       " 0,\n",
       " 0,\n",
       " 0,\n",
       " 0,\n",
       " 0,\n",
       " 0,\n",
       " 0,\n",
       " 0,\n",
       " 0,\n",
       " 0,\n",
       " 0,\n",
       " 0,\n",
       " 0,\n",
       " 0,\n",
       " 0,\n",
       " 0,\n",
       " 0,\n",
       " 0]"
      ]
     },
     "execution_count": 26,
     "metadata": {},
     "output_type": "execute_result"
    }
   ],
   "source": [
    "\n",
    "\n",
    "text_ids = [tokenizer.encode(text, max_length=100, pad_to_max_length=True) for text in texts]\n",
    "\n",
    "text_ids[0]"
   ]
  },
  {
   "cell_type": "code",
   "execution_count": 27,
   "metadata": {},
   "outputs": [
    {
     "data": {
      "text/plain": [
       "[101,\n",
       " 3531,\n",
       " 2175,\n",
       " 2000,\n",
       " 14569,\n",
       " 1005,\n",
       " 1055,\n",
       " 4037,\n",
       " 2012,\n",
       " 7479,\n",
       " 1012,\n",
       " 20248,\n",
       " 13159,\n",
       " 3170,\n",
       " 7999,\n",
       " 1012,\n",
       " 8917,\n",
       " 1998,\n",
       " 16957,\n",
       " 25035,\n",
       " 2006,\n",
       " 2023,\n",
       " 3795,\n",
       " 4126,\n",
       " 1010,\n",
       " 2009,\n",
       " 1005,\n",
       " 1055,\n",
       " 2115,\n",
       " 2336,\n",
       " 1005,\n",
       " 1055,\n",
       " 1010,\n",
       " 1998,\n",
       " 2037,\n",
       " 2336,\n",
       " 1005,\n",
       " 1055,\n",
       " 3268,\n",
       " 2012,\n",
       " 3891,\n",
       " 1012,\n",
       " 4067,\n",
       " 2017,\n",
       " 1012,\n",
       " 102,\n",
       " 0,\n",
       " 0,\n",
       " 0,\n",
       " 0,\n",
       " 0,\n",
       " 0,\n",
       " 0,\n",
       " 0,\n",
       " 0,\n",
       " 0,\n",
       " 0,\n",
       " 0,\n",
       " 0,\n",
       " 0,\n",
       " 0,\n",
       " 0,\n",
       " 0,\n",
       " 0,\n",
       " 0,\n",
       " 0,\n",
       " 0,\n",
       " 0,\n",
       " 0,\n",
       " 0,\n",
       " 0,\n",
       " 0,\n",
       " 0,\n",
       " 0,\n",
       " 0,\n",
       " 0,\n",
       " 0,\n",
       " 0,\n",
       " 0,\n",
       " 0,\n",
       " 0,\n",
       " 0,\n",
       " 0,\n",
       " 0,\n",
       " 0,\n",
       " 0,\n",
       " 0,\n",
       " 0,\n",
       " 0,\n",
       " 0,\n",
       " 0,\n",
       " 0,\n",
       " 0,\n",
       " 0,\n",
       " 0,\n",
       " 0,\n",
       " 0,\n",
       " 0,\n",
       " 0,\n",
       " 0]"
      ]
     },
     "execution_count": 27,
     "metadata": {},
     "output_type": "execute_result"
    }
   ],
   "source": [
    "text_ids1 = [tokenizer.encode(text, max_length=100, pad_to_max_length=True) for text in texts1]\n",
    "\n",
    "text_ids1[0]"
   ]
  },
  {
   "cell_type": "code",
   "execution_count": 28,
   "metadata": {},
   "outputs": [
    {
     "data": {
      "text/plain": [
       "[101,\n",
       " 4572,\n",
       " 1005,\n",
       " 1055,\n",
       " 2567,\n",
       " 1010,\n",
       " 2798,\n",
       " 1010,\n",
       " 2332,\n",
       " 1997,\n",
       " 3304,\n",
       " 1006,\n",
       " 2036,\n",
       " 2124,\n",
       " 2004,\n",
       " 2798,\n",
       " 1996,\n",
       " 6638,\n",
       " 1010,\n",
       " 2004,\n",
       " 2002,\n",
       " 2001,\n",
       " 2019,\n",
       " 15578,\n",
       " 3366,\n",
       " 22889,\n",
       " 16429,\n",
       " 1007,\n",
       " 2938,\n",
       " 2011,\n",
       " 8909,\n",
       " 2135,\n",
       " 2096,\n",
       " 2035,\n",
       " 2023,\n",
       " 2001,\n",
       " 6230,\n",
       " 1998,\n",
       " 2106,\n",
       " 2498,\n",
       " 1012,\n",
       " 1029,\n",
       " 1996,\n",
       " 4831,\n",
       " 2435,\n",
       " 2032,\n",
       " 1996,\n",
       " 2516,\n",
       " 1997,\n",
       " 3750,\n",
       " 1010,\n",
       " 5327,\n",
       " 2002,\n",
       " 2023,\n",
       " 2052,\n",
       " 12996,\n",
       " 2032,\n",
       " 2000,\n",
       " 2895,\n",
       " 1010,\n",
       " 2021,\n",
       " 2145,\n",
       " 2002,\n",
       " 2106,\n",
       " 2498,\n",
       " 1012,\n",
       " 1029,\n",
       " 2043,\n",
       " 4572,\n",
       " 2351,\n",
       " 1010,\n",
       " 2798,\n",
       " 2150,\n",
       " 7786,\n",
       " 2058,\n",
       " 2010,\n",
       " 4915,\n",
       " 2004,\n",
       " 2092,\n",
       " 1012,\n",
       " 1029,\n",
       " 28938,\n",
       " 24748,\n",
       " 7228,\n",
       " 2000,\n",
       " 2032,\n",
       " 1010,\n",
       " 12858,\n",
       " 2032,\n",
       " 2000,\n",
       " 2272,\n",
       " 3828,\n",
       " 2010,\n",
       " 2111,\n",
       " 2013,\n",
       " 1040,\n",
       " 1012,\n",
       " 1012,\n",
       " 1012,\n",
       " 102]"
      ]
     },
     "execution_count": 28,
     "metadata": {},
     "output_type": "execute_result"
    }
   ],
   "source": [
    "text_ids2 = [tokenizer.encode(text, max_length=100, pad_to_max_length=True) for text in texts2]\n",
    "\n",
    "text_ids2[0]"
   ]
  },
  {
   "cell_type": "code",
   "execution_count": 29,
   "metadata": {},
   "outputs": [
    {
     "name": "stdout",
     "output_type": "stream",
     "text": [
      "100\n",
      "100\n"
     ]
    }
   ],
   "source": [
    "\n",
    "text_ids_lengths = [len(text_ids[i]) for i in range(len(text_ids))]\n",
    "print(min(text_ids_lengths))\n",
    "print(max(text_ids_lengths))"
   ]
  },
  {
   "cell_type": "code",
   "execution_count": 30,
   "metadata": {},
   "outputs": [
    {
     "name": "stdout",
     "output_type": "stream",
     "text": [
      "100\n",
      "100\n"
     ]
    }
   ],
   "source": [
    "text_ids_lengths1 = [len(text_ids1[i]) for i in range(len(text_ids1))]\n",
    "print(min(text_ids_lengths1))\n",
    "print(max(text_ids_lengths1))"
   ]
  },
  {
   "cell_type": "code",
   "execution_count": 31,
   "metadata": {},
   "outputs": [
    {
     "name": "stdout",
     "output_type": "stream",
     "text": [
      "100\n",
      "100\n"
     ]
    }
   ],
   "source": [
    "text_ids_lengths2 = [len(text_ids2[i]) for i in range(len(text_ids2))]\n",
    "print(min(text_ids_lengths2))\n",
    "print(max(text_ids_lengths2))"
   ]
  },
  {
   "cell_type": "code",
   "execution_count": 32,
   "metadata": {},
   "outputs": [
    {
     "data": {
      "text/plain": [
       "[1,\n",
       " 1,\n",
       " 1,\n",
       " 1,\n",
       " 1,\n",
       " 1,\n",
       " 1,\n",
       " 1,\n",
       " 1,\n",
       " 1,\n",
       " 1,\n",
       " 1,\n",
       " 1,\n",
       " 1,\n",
       " 1,\n",
       " 1,\n",
       " 1,\n",
       " 1,\n",
       " 1,\n",
       " 1,\n",
       " 1,\n",
       " 1,\n",
       " 1,\n",
       " 1,\n",
       " 1,\n",
       " 1,\n",
       " 1,\n",
       " 1,\n",
       " 1,\n",
       " 1,\n",
       " 0,\n",
       " 0,\n",
       " 0,\n",
       " 0,\n",
       " 0,\n",
       " 0,\n",
       " 0,\n",
       " 0,\n",
       " 0,\n",
       " 0,\n",
       " 0,\n",
       " 0,\n",
       " 0,\n",
       " 0,\n",
       " 0,\n",
       " 0,\n",
       " 0,\n",
       " 0,\n",
       " 0,\n",
       " 0,\n",
       " 0,\n",
       " 0,\n",
       " 0,\n",
       " 0,\n",
       " 0,\n",
       " 0,\n",
       " 0,\n",
       " 0,\n",
       " 0,\n",
       " 0,\n",
       " 0,\n",
       " 0,\n",
       " 0,\n",
       " 0,\n",
       " 0,\n",
       " 0,\n",
       " 0,\n",
       " 0,\n",
       " 0,\n",
       " 0,\n",
       " 0,\n",
       " 0,\n",
       " 0,\n",
       " 0,\n",
       " 0,\n",
       " 0,\n",
       " 0,\n",
       " 0,\n",
       " 0,\n",
       " 0,\n",
       " 0,\n",
       " 0,\n",
       " 0,\n",
       " 0,\n",
       " 0,\n",
       " 0,\n",
       " 0,\n",
       " 0,\n",
       " 0,\n",
       " 0,\n",
       " 0,\n",
       " 0,\n",
       " 0,\n",
       " 0,\n",
       " 0,\n",
       " 0,\n",
       " 0,\n",
       " 0,\n",
       " 0,\n",
       " 0]"
      ]
     },
     "execution_count": 32,
     "metadata": {},
     "output_type": "execute_result"
    }
   ],
   "source": [
    "att_masks = []\n",
    "for ids in text_ids:\n",
    "    masks = [int(id > 0) for id in ids]\n",
    "    att_masks.append(masks)\n",
    "    \n",
    "att_masks[0]"
   ]
  },
  {
   "cell_type": "code",
   "execution_count": 33,
   "metadata": {},
   "outputs": [
    {
     "data": {
      "text/plain": [
       "[1,\n",
       " 1,\n",
       " 1,\n",
       " 1,\n",
       " 1,\n",
       " 1,\n",
       " 1,\n",
       " 1,\n",
       " 1,\n",
       " 1,\n",
       " 1,\n",
       " 1,\n",
       " 1,\n",
       " 1,\n",
       " 1,\n",
       " 1,\n",
       " 1,\n",
       " 1,\n",
       " 1,\n",
       " 1,\n",
       " 1,\n",
       " 1,\n",
       " 1,\n",
       " 1,\n",
       " 1,\n",
       " 1,\n",
       " 1,\n",
       " 1,\n",
       " 1,\n",
       " 1,\n",
       " 1,\n",
       " 1,\n",
       " 1,\n",
       " 1,\n",
       " 1,\n",
       " 1,\n",
       " 1,\n",
       " 1,\n",
       " 1,\n",
       " 1,\n",
       " 1,\n",
       " 1,\n",
       " 1,\n",
       " 1,\n",
       " 1,\n",
       " 1,\n",
       " 0,\n",
       " 0,\n",
       " 0,\n",
       " 0,\n",
       " 0,\n",
       " 0,\n",
       " 0,\n",
       " 0,\n",
       " 0,\n",
       " 0,\n",
       " 0,\n",
       " 0,\n",
       " 0,\n",
       " 0,\n",
       " 0,\n",
       " 0,\n",
       " 0,\n",
       " 0,\n",
       " 0,\n",
       " 0,\n",
       " 0,\n",
       " 0,\n",
       " 0,\n",
       " 0,\n",
       " 0,\n",
       " 0,\n",
       " 0,\n",
       " 0,\n",
       " 0,\n",
       " 0,\n",
       " 0,\n",
       " 0,\n",
       " 0,\n",
       " 0,\n",
       " 0,\n",
       " 0,\n",
       " 0,\n",
       " 0,\n",
       " 0,\n",
       " 0,\n",
       " 0,\n",
       " 0,\n",
       " 0,\n",
       " 0,\n",
       " 0,\n",
       " 0,\n",
       " 0,\n",
       " 0,\n",
       " 0,\n",
       " 0,\n",
       " 0,\n",
       " 0,\n",
       " 0,\n",
       " 0]"
      ]
     },
     "execution_count": 33,
     "metadata": {},
     "output_type": "execute_result"
    }
   ],
   "source": [
    "att_masks1 = []\n",
    "for ids in text_ids1:\n",
    "    masks = [int(id > 0) for id in ids]\n",
    "    att_masks1.append(masks)\n",
    "    \n",
    "att_masks1[0]"
   ]
  },
  {
   "cell_type": "code",
   "execution_count": 34,
   "metadata": {},
   "outputs": [
    {
     "data": {
      "text/plain": [
       "[1,\n",
       " 1,\n",
       " 1,\n",
       " 1,\n",
       " 1,\n",
       " 1,\n",
       " 1,\n",
       " 1,\n",
       " 1,\n",
       " 1,\n",
       " 1,\n",
       " 1,\n",
       " 1,\n",
       " 1,\n",
       " 1,\n",
       " 1,\n",
       " 1,\n",
       " 1,\n",
       " 1,\n",
       " 1,\n",
       " 1,\n",
       " 1,\n",
       " 1,\n",
       " 1,\n",
       " 1,\n",
       " 1,\n",
       " 1,\n",
       " 1,\n",
       " 1,\n",
       " 1,\n",
       " 1,\n",
       " 1,\n",
       " 1,\n",
       " 1,\n",
       " 1,\n",
       " 1,\n",
       " 1,\n",
       " 1,\n",
       " 1,\n",
       " 1,\n",
       " 1,\n",
       " 1,\n",
       " 1,\n",
       " 1,\n",
       " 1,\n",
       " 1,\n",
       " 1,\n",
       " 1,\n",
       " 1,\n",
       " 1,\n",
       " 1,\n",
       " 1,\n",
       " 1,\n",
       " 1,\n",
       " 1,\n",
       " 1,\n",
       " 1,\n",
       " 1,\n",
       " 1,\n",
       " 1,\n",
       " 1,\n",
       " 1,\n",
       " 1,\n",
       " 1,\n",
       " 1,\n",
       " 1,\n",
       " 1,\n",
       " 1,\n",
       " 1,\n",
       " 1,\n",
       " 1,\n",
       " 1,\n",
       " 1,\n",
       " 1,\n",
       " 1,\n",
       " 1,\n",
       " 1,\n",
       " 1,\n",
       " 1,\n",
       " 1,\n",
       " 1,\n",
       " 1,\n",
       " 1,\n",
       " 1,\n",
       " 1,\n",
       " 1,\n",
       " 1,\n",
       " 1,\n",
       " 1,\n",
       " 1,\n",
       " 1,\n",
       " 1,\n",
       " 1,\n",
       " 1,\n",
       " 1,\n",
       " 1,\n",
       " 1,\n",
       " 1,\n",
       " 1,\n",
       " 1]"
      ]
     },
     "execution_count": 34,
     "metadata": {},
     "output_type": "execute_result"
    }
   ],
   "source": [
    "att_masks2 = []\n",
    "for ids in text_ids2:\n",
    "    masks = [int(id > 0) for id in ids]\n",
    "    att_masks2.append(masks)\n",
    "    \n",
    "att_masks2[0]"
   ]
  },
  {
   "cell_type": "code",
   "execution_count": 35,
   "metadata": {},
   "outputs": [],
   "source": [
    "#from sklearn.model_selection import train_test_split\n",
    "\n",
    "#train_x, test_val_x, train_y, test_val_y = train_test_split(text_ids, labels, random_state=111, test_size=0.2)\n",
    "#train_m, test_val_m = train_test_split(att_masks, random_state=111, test_size=0.2)\n",
    "\n",
    "#test_x, val_x, test_y, val_y = train_test_split(test_val_x, test_val_y, random_state=111, test_size=0.5)\n",
    "#test_m, val_m = train_test_split(test_val_m, random_state=111, test_size=0.5)"
   ]
  },
  {
   "cell_type": "code",
   "execution_count": 36,
   "metadata": {},
   "outputs": [],
   "source": [
    "train_x = text_ids\n",
    "train_y = labels\n",
    "train_m = att_masks\n",
    "\n",
    "val_x = text_ids1\n",
    "val_y = labels1\n",
    "val_m = att_masks1\n",
    "\n",
    "test_x = text_ids2\n",
    "test_y = labels2\n",
    "test_m = att_masks2"
   ]
  },
  {
   "cell_type": "code",
   "execution_count": 37,
   "metadata": {},
   "outputs": [
    {
     "name": "stdout",
     "output_type": "stream",
     "text": [
      "torch.Size([19093, 100])\n",
      "torch.Size([4052, 100])\n",
      "torch.Size([4133, 100])\n",
      "torch.Size([19093])\n",
      "torch.Size([4052])\n",
      "torch.Size([4133])\n",
      "torch.Size([19093, 100])\n",
      "torch.Size([4052, 100])\n",
      "torch.Size([4133, 100])\n"
     ]
    }
   ],
   "source": [
    "import torch\n",
    "\n",
    "train_x = torch.tensor(train_x)\n",
    "test_x = torch.tensor(test_x)\n",
    "val_x = torch.tensor(val_x)\n",
    "train_y = torch.tensor(train_y)\n",
    "test_y = torch.tensor(test_y)\n",
    "val_y = torch.tensor(val_y)\n",
    "train_m = torch.tensor(train_m)\n",
    "test_m = torch.tensor(test_m)\n",
    "val_m = torch.tensor(val_m)\n",
    "\n",
    "print(train_x.shape)\n",
    "print(test_x.shape)\n",
    "print(val_x.shape)\n",
    "print(train_y.shape)\n",
    "print(test_y.shape)\n",
    "print(val_y.shape)\n",
    "print(train_m.shape)\n",
    "print(test_m.shape)\n",
    "print(val_m.shape)"
   ]
  },
  {
   "cell_type": "code",
   "execution_count": 38,
   "metadata": {},
   "outputs": [],
   "source": [
    "from torch.utils.data import TensorDataset, DataLoader, RandomSampler, SequentialSampler\n",
    "\n",
    "batch_size = 32\n",
    "\n",
    "train_data = TensorDataset(train_x, train_m, train_y)\n",
    "train_sampler = RandomSampler(train_data)\n",
    "train_dataloader = DataLoader(train_data, sampler=train_sampler, batch_size=batch_size)\n",
    "\n",
    "val_data = TensorDataset(val_x, val_m, val_y)\n",
    "val_sampler = SequentialSampler(val_data)\n",
    "val_dataloader = DataLoader(val_data, sampler=val_sampler, batch_size=batch_size)"
   ]
  },
  {
   "cell_type": "code",
   "execution_count": 39,
   "metadata": {},
   "outputs": [
    {
     "name": "stderr",
     "output_type": "stream",
     "text": [
      "Some weights of the model checkpoint at distilbert-base-uncased were not used when initializing DistilBertForSequenceClassification: ['vocab_transform.weight', 'vocab_transform.bias', 'vocab_layer_norm.weight', 'vocab_layer_norm.bias', 'vocab_projector.weight', 'vocab_projector.bias']\n",
      "- This IS expected if you are initializing DistilBertForSequenceClassification from the checkpoint of a model trained on another task or with another architecture (e.g. initializing a BertForSequenceClassification model from a BertForPreTraining model).\n",
      "- This IS NOT expected if you are initializing DistilBertForSequenceClassification from the checkpoint of a model that you expect to be exactly identical (initializing a BertForSequenceClassification model from a BertForSequenceClassification model).\n",
      "Some weights of DistilBertForSequenceClassification were not initialized from the model checkpoint at distilbert-base-uncased and are newly initialized: ['pre_classifier.weight', 'pre_classifier.bias', 'classifier.weight', 'classifier.bias']\n",
      "You should probably TRAIN this model on a down-stream task to be able to use it for predictions and inference.\n"
     ]
    }
   ],
   "source": [
    "from transformers import DistilBertForSequenceClassification, AdamW, DistilBertConfig\n",
    "\n",
    "num_labels = len(set(labels))\n",
    "\n",
    "model = DistilBertForSequenceClassification.from_pretrained('distilbert-base-uncased', num_labels=num_labels,\n",
    "                                                            output_attentions=False, output_hidden_states=False)"
   ]
  },
  {
   "cell_type": "code",
   "execution_count": 40,
   "metadata": {},
   "outputs": [
    {
     "name": "stdout",
     "output_type": "stream",
     "text": [
      "cpu\n"
     ]
    }
   ],
   "source": [
    "device = torch.device('cuda' if torch.cuda.is_available() else 'cpu')\n",
    "print(device)\n",
    "\n",
    "model = model.to(device)"
   ]
  },
  {
   "cell_type": "code",
   "execution_count": 41,
   "metadata": {},
   "outputs": [
    {
     "name": "stdout",
     "output_type": "stream",
     "text": [
      "Number of trainable parameters: 66955010 \n",
      " DistilBertForSequenceClassification(\n",
      "  (distilbert): DistilBertModel(\n",
      "    (embeddings): Embeddings(\n",
      "      (word_embeddings): Embedding(30522, 768, padding_idx=0)\n",
      "      (position_embeddings): Embedding(512, 768)\n",
      "      (LayerNorm): LayerNorm((768,), eps=1e-12, elementwise_affine=True)\n",
      "      (dropout): Dropout(p=0.1, inplace=False)\n",
      "    )\n",
      "    (transformer): Transformer(\n",
      "      (layer): ModuleList(\n",
      "        (0): TransformerBlock(\n",
      "          (attention): MultiHeadSelfAttention(\n",
      "            (dropout): Dropout(p=0.1, inplace=False)\n",
      "            (q_lin): Linear(in_features=768, out_features=768, bias=True)\n",
      "            (k_lin): Linear(in_features=768, out_features=768, bias=True)\n",
      "            (v_lin): Linear(in_features=768, out_features=768, bias=True)\n",
      "            (out_lin): Linear(in_features=768, out_features=768, bias=True)\n",
      "          )\n",
      "          (sa_layer_norm): LayerNorm((768,), eps=1e-12, elementwise_affine=True)\n",
      "          (ffn): FFN(\n",
      "            (dropout): Dropout(p=0.1, inplace=False)\n",
      "            (lin1): Linear(in_features=768, out_features=3072, bias=True)\n",
      "            (lin2): Linear(in_features=3072, out_features=768, bias=True)\n",
      "          )\n",
      "          (output_layer_norm): LayerNorm((768,), eps=1e-12, elementwise_affine=True)\n",
      "        )\n",
      "        (1): TransformerBlock(\n",
      "          (attention): MultiHeadSelfAttention(\n",
      "            (dropout): Dropout(p=0.1, inplace=False)\n",
      "            (q_lin): Linear(in_features=768, out_features=768, bias=True)\n",
      "            (k_lin): Linear(in_features=768, out_features=768, bias=True)\n",
      "            (v_lin): Linear(in_features=768, out_features=768, bias=True)\n",
      "            (out_lin): Linear(in_features=768, out_features=768, bias=True)\n",
      "          )\n",
      "          (sa_layer_norm): LayerNorm((768,), eps=1e-12, elementwise_affine=True)\n",
      "          (ffn): FFN(\n",
      "            (dropout): Dropout(p=0.1, inplace=False)\n",
      "            (lin1): Linear(in_features=768, out_features=3072, bias=True)\n",
      "            (lin2): Linear(in_features=3072, out_features=768, bias=True)\n",
      "          )\n",
      "          (output_layer_norm): LayerNorm((768,), eps=1e-12, elementwise_affine=True)\n",
      "        )\n",
      "        (2): TransformerBlock(\n",
      "          (attention): MultiHeadSelfAttention(\n",
      "            (dropout): Dropout(p=0.1, inplace=False)\n",
      "            (q_lin): Linear(in_features=768, out_features=768, bias=True)\n",
      "            (k_lin): Linear(in_features=768, out_features=768, bias=True)\n",
      "            (v_lin): Linear(in_features=768, out_features=768, bias=True)\n",
      "            (out_lin): Linear(in_features=768, out_features=768, bias=True)\n",
      "          )\n",
      "          (sa_layer_norm): LayerNorm((768,), eps=1e-12, elementwise_affine=True)\n",
      "          (ffn): FFN(\n",
      "            (dropout): Dropout(p=0.1, inplace=False)\n",
      "            (lin1): Linear(in_features=768, out_features=3072, bias=True)\n",
      "            (lin2): Linear(in_features=3072, out_features=768, bias=True)\n",
      "          )\n",
      "          (output_layer_norm): LayerNorm((768,), eps=1e-12, elementwise_affine=True)\n",
      "        )\n",
      "        (3): TransformerBlock(\n",
      "          (attention): MultiHeadSelfAttention(\n",
      "            (dropout): Dropout(p=0.1, inplace=False)\n",
      "            (q_lin): Linear(in_features=768, out_features=768, bias=True)\n",
      "            (k_lin): Linear(in_features=768, out_features=768, bias=True)\n",
      "            (v_lin): Linear(in_features=768, out_features=768, bias=True)\n",
      "            (out_lin): Linear(in_features=768, out_features=768, bias=True)\n",
      "          )\n",
      "          (sa_layer_norm): LayerNorm((768,), eps=1e-12, elementwise_affine=True)\n",
      "          (ffn): FFN(\n",
      "            (dropout): Dropout(p=0.1, inplace=False)\n",
      "            (lin1): Linear(in_features=768, out_features=3072, bias=True)\n",
      "            (lin2): Linear(in_features=3072, out_features=768, bias=True)\n",
      "          )\n",
      "          (output_layer_norm): LayerNorm((768,), eps=1e-12, elementwise_affine=True)\n",
      "        )\n",
      "        (4): TransformerBlock(\n",
      "          (attention): MultiHeadSelfAttention(\n",
      "            (dropout): Dropout(p=0.1, inplace=False)\n",
      "            (q_lin): Linear(in_features=768, out_features=768, bias=True)\n",
      "            (k_lin): Linear(in_features=768, out_features=768, bias=True)\n",
      "            (v_lin): Linear(in_features=768, out_features=768, bias=True)\n",
      "            (out_lin): Linear(in_features=768, out_features=768, bias=True)\n",
      "          )\n",
      "          (sa_layer_norm): LayerNorm((768,), eps=1e-12, elementwise_affine=True)\n",
      "          (ffn): FFN(\n",
      "            (dropout): Dropout(p=0.1, inplace=False)\n",
      "            (lin1): Linear(in_features=768, out_features=3072, bias=True)\n",
      "            (lin2): Linear(in_features=3072, out_features=768, bias=True)\n",
      "          )\n",
      "          (output_layer_norm): LayerNorm((768,), eps=1e-12, elementwise_affine=True)\n",
      "        )\n",
      "        (5): TransformerBlock(\n",
      "          (attention): MultiHeadSelfAttention(\n",
      "            (dropout): Dropout(p=0.1, inplace=False)\n",
      "            (q_lin): Linear(in_features=768, out_features=768, bias=True)\n",
      "            (k_lin): Linear(in_features=768, out_features=768, bias=True)\n",
      "            (v_lin): Linear(in_features=768, out_features=768, bias=True)\n",
      "            (out_lin): Linear(in_features=768, out_features=768, bias=True)\n",
      "          )\n",
      "          (sa_layer_norm): LayerNorm((768,), eps=1e-12, elementwise_affine=True)\n",
      "          (ffn): FFN(\n",
      "            (dropout): Dropout(p=0.1, inplace=False)\n",
      "            (lin1): Linear(in_features=768, out_features=3072, bias=True)\n",
      "            (lin2): Linear(in_features=3072, out_features=768, bias=True)\n",
      "          )\n",
      "          (output_layer_norm): LayerNorm((768,), eps=1e-12, elementwise_affine=True)\n",
      "        )\n",
      "      )\n",
      "    )\n",
      "  )\n",
      "  (pre_classifier): Linear(in_features=768, out_features=768, bias=True)\n",
      "  (classifier): Linear(in_features=768, out_features=2, bias=True)\n",
      "  (dropout): Dropout(p=0.2, inplace=False)\n",
      ")\n"
     ]
    }
   ],
   "source": [
    "def count_parameters(model):\n",
    "    return sum(p.numel() for p in model.parameters() if p.requires_grad)\n",
    "\n",
    "print('Number of trainable parameters:', count_parameters(model), '\\n', model)"
   ]
  },
  {
   "cell_type": "code",
   "execution_count": 42,
   "metadata": {},
   "outputs": [
    {
     "data": {
      "text/plain": [
       "['distilbert.embeddings.word_embeddings.weight',\n",
       " 'distilbert.embeddings.position_embeddings.weight',\n",
       " 'distilbert.embeddings.LayerNorm.weight',\n",
       " 'distilbert.embeddings.LayerNorm.bias',\n",
       " 'distilbert.transformer.layer.0.attention.q_lin.weight',\n",
       " 'distilbert.transformer.layer.0.attention.q_lin.bias',\n",
       " 'distilbert.transformer.layer.0.attention.k_lin.weight',\n",
       " 'distilbert.transformer.layer.0.attention.k_lin.bias',\n",
       " 'distilbert.transformer.layer.0.attention.v_lin.weight',\n",
       " 'distilbert.transformer.layer.0.attention.v_lin.bias',\n",
       " 'distilbert.transformer.layer.0.attention.out_lin.weight',\n",
       " 'distilbert.transformer.layer.0.attention.out_lin.bias',\n",
       " 'distilbert.transformer.layer.0.sa_layer_norm.weight',\n",
       " 'distilbert.transformer.layer.0.sa_layer_norm.bias',\n",
       " 'distilbert.transformer.layer.0.ffn.lin1.weight',\n",
       " 'distilbert.transformer.layer.0.ffn.lin1.bias',\n",
       " 'distilbert.transformer.layer.0.ffn.lin2.weight',\n",
       " 'distilbert.transformer.layer.0.ffn.lin2.bias',\n",
       " 'distilbert.transformer.layer.0.output_layer_norm.weight',\n",
       " 'distilbert.transformer.layer.0.output_layer_norm.bias',\n",
       " 'distilbert.transformer.layer.1.attention.q_lin.weight',\n",
       " 'distilbert.transformer.layer.1.attention.q_lin.bias',\n",
       " 'distilbert.transformer.layer.1.attention.k_lin.weight',\n",
       " 'distilbert.transformer.layer.1.attention.k_lin.bias',\n",
       " 'distilbert.transformer.layer.1.attention.v_lin.weight',\n",
       " 'distilbert.transformer.layer.1.attention.v_lin.bias',\n",
       " 'distilbert.transformer.layer.1.attention.out_lin.weight',\n",
       " 'distilbert.transformer.layer.1.attention.out_lin.bias',\n",
       " 'distilbert.transformer.layer.1.sa_layer_norm.weight',\n",
       " 'distilbert.transformer.layer.1.sa_layer_norm.bias',\n",
       " 'distilbert.transformer.layer.1.ffn.lin1.weight',\n",
       " 'distilbert.transformer.layer.1.ffn.lin1.bias',\n",
       " 'distilbert.transformer.layer.1.ffn.lin2.weight',\n",
       " 'distilbert.transformer.layer.1.ffn.lin2.bias',\n",
       " 'distilbert.transformer.layer.1.output_layer_norm.weight',\n",
       " 'distilbert.transformer.layer.1.output_layer_norm.bias',\n",
       " 'distilbert.transformer.layer.2.attention.q_lin.weight',\n",
       " 'distilbert.transformer.layer.2.attention.q_lin.bias',\n",
       " 'distilbert.transformer.layer.2.attention.k_lin.weight',\n",
       " 'distilbert.transformer.layer.2.attention.k_lin.bias',\n",
       " 'distilbert.transformer.layer.2.attention.v_lin.weight',\n",
       " 'distilbert.transformer.layer.2.attention.v_lin.bias',\n",
       " 'distilbert.transformer.layer.2.attention.out_lin.weight',\n",
       " 'distilbert.transformer.layer.2.attention.out_lin.bias',\n",
       " 'distilbert.transformer.layer.2.sa_layer_norm.weight',\n",
       " 'distilbert.transformer.layer.2.sa_layer_norm.bias',\n",
       " 'distilbert.transformer.layer.2.ffn.lin1.weight',\n",
       " 'distilbert.transformer.layer.2.ffn.lin1.bias',\n",
       " 'distilbert.transformer.layer.2.ffn.lin2.weight',\n",
       " 'distilbert.transformer.layer.2.ffn.lin2.bias',\n",
       " 'distilbert.transformer.layer.2.output_layer_norm.weight',\n",
       " 'distilbert.transformer.layer.2.output_layer_norm.bias',\n",
       " 'distilbert.transformer.layer.3.attention.q_lin.weight',\n",
       " 'distilbert.transformer.layer.3.attention.q_lin.bias',\n",
       " 'distilbert.transformer.layer.3.attention.k_lin.weight',\n",
       " 'distilbert.transformer.layer.3.attention.k_lin.bias',\n",
       " 'distilbert.transformer.layer.3.attention.v_lin.weight',\n",
       " 'distilbert.transformer.layer.3.attention.v_lin.bias',\n",
       " 'distilbert.transformer.layer.3.attention.out_lin.weight',\n",
       " 'distilbert.transformer.layer.3.attention.out_lin.bias',\n",
       " 'distilbert.transformer.layer.3.sa_layer_norm.weight',\n",
       " 'distilbert.transformer.layer.3.sa_layer_norm.bias',\n",
       " 'distilbert.transformer.layer.3.ffn.lin1.weight',\n",
       " 'distilbert.transformer.layer.3.ffn.lin1.bias',\n",
       " 'distilbert.transformer.layer.3.ffn.lin2.weight',\n",
       " 'distilbert.transformer.layer.3.ffn.lin2.bias',\n",
       " 'distilbert.transformer.layer.3.output_layer_norm.weight',\n",
       " 'distilbert.transformer.layer.3.output_layer_norm.bias',\n",
       " 'distilbert.transformer.layer.4.attention.q_lin.weight',\n",
       " 'distilbert.transformer.layer.4.attention.q_lin.bias',\n",
       " 'distilbert.transformer.layer.4.attention.k_lin.weight',\n",
       " 'distilbert.transformer.layer.4.attention.k_lin.bias',\n",
       " 'distilbert.transformer.layer.4.attention.v_lin.weight',\n",
       " 'distilbert.transformer.layer.4.attention.v_lin.bias',\n",
       " 'distilbert.transformer.layer.4.attention.out_lin.weight',\n",
       " 'distilbert.transformer.layer.4.attention.out_lin.bias',\n",
       " 'distilbert.transformer.layer.4.sa_layer_norm.weight',\n",
       " 'distilbert.transformer.layer.4.sa_layer_norm.bias',\n",
       " 'distilbert.transformer.layer.4.ffn.lin1.weight',\n",
       " 'distilbert.transformer.layer.4.ffn.lin1.bias',\n",
       " 'distilbert.transformer.layer.4.ffn.lin2.weight',\n",
       " 'distilbert.transformer.layer.4.ffn.lin2.bias',\n",
       " 'distilbert.transformer.layer.4.output_layer_norm.weight',\n",
       " 'distilbert.transformer.layer.4.output_layer_norm.bias',\n",
       " 'distilbert.transformer.layer.5.attention.q_lin.weight',\n",
       " 'distilbert.transformer.layer.5.attention.q_lin.bias',\n",
       " 'distilbert.transformer.layer.5.attention.k_lin.weight',\n",
       " 'distilbert.transformer.layer.5.attention.k_lin.bias',\n",
       " 'distilbert.transformer.layer.5.attention.v_lin.weight',\n",
       " 'distilbert.transformer.layer.5.attention.v_lin.bias',\n",
       " 'distilbert.transformer.layer.5.attention.out_lin.weight',\n",
       " 'distilbert.transformer.layer.5.attention.out_lin.bias',\n",
       " 'distilbert.transformer.layer.5.sa_layer_norm.weight',\n",
       " 'distilbert.transformer.layer.5.sa_layer_norm.bias',\n",
       " 'distilbert.transformer.layer.5.ffn.lin1.weight',\n",
       " 'distilbert.transformer.layer.5.ffn.lin1.bias',\n",
       " 'distilbert.transformer.layer.5.ffn.lin2.weight',\n",
       " 'distilbert.transformer.layer.5.ffn.lin2.bias',\n",
       " 'distilbert.transformer.layer.5.output_layer_norm.weight',\n",
       " 'distilbert.transformer.layer.5.output_layer_norm.bias',\n",
       " 'pre_classifier.weight',\n",
       " 'pre_classifier.bias',\n",
       " 'classifier.weight',\n",
       " 'classifier.bias']"
      ]
     },
     "execution_count": 42,
     "metadata": {},
     "output_type": "execute_result"
    }
   ],
   "source": [
    "[n for n, p in model.named_parameters()]"
   ]
  },
  {
   "cell_type": "code",
   "execution_count": 43,
   "metadata": {},
   "outputs": [],
   "source": [
    "learning_rate = 1e-5\n",
    "adam_epsilon = 1e-8\n",
    "\n",
    "no_decay = ['bias', 'LayerNorm.weight']\n",
    "optimizer_grouped_parameters = [\n",
    "    {'params': [p for n, p in model.named_parameters() if not any(nd in n for nd in no_decay)],\n",
    "     'weight_decay_rate': 0.2},\n",
    "    {'params': [p for n, p in model.named_parameters() if any(nd in n for nd in no_decay)],\n",
    "     'weight_decay_rate': 0.0}\n",
    "]\n",
    "\n",
    "optimizer = AdamW(optimizer_grouped_parameters, lr=learning_rate, eps=adam_epsilon)"
   ]
  },
  {
   "cell_type": "code",
   "execution_count": 44,
   "metadata": {},
   "outputs": [],
   "source": [
    "from transformers import get_linear_schedule_with_warmup\n",
    "\n",
    "num_epochs = 3\n",
    "total_steps = len(train_dataloader) * num_epochs\n",
    "\n",
    "scheduler = get_linear_schedule_with_warmup(optimizer, num_warmup_steps=0, num_training_steps=total_steps)"
   ]
  },
  {
   "cell_type": "code",
   "execution_count": 45,
   "metadata": {},
   "outputs": [],
   "source": [
    "\n",
    "import time\n",
    "\n",
    "def epoch_time(start_time, end_time):\n",
    "    elapsed_time = end_time - start_time\n",
    "    elapsed_mins = int(elapsed_time / 60)\n",
    "    elapsed_secs = int(elapsed_time - (elapsed_mins * 60))\n",
    "    return elapsed_mins, elapsed_secs"
   ]
  },
  {
   "cell_type": "code",
   "execution_count": 46,
   "metadata": {},
   "outputs": [],
   "source": [
    "import numpy as np\n",
    "import random\n",
    "\n",
    "seed_val = 111\n",
    "\n",
    "random.seed(seed_val)\n",
    "np.random.seed(seed_val)\n",
    "torch.manual_seed(seed_val)\n",
    "torch.cuda.manual_seed_all(seed_val)"
   ]
  },
  {
   "cell_type": "code",
   "execution_count": 47,
   "metadata": {},
   "outputs": [
    {
     "name": "stdout",
     "output_type": "stream",
     "text": [
      "\n",
      "Train loss after itaration 1: 0.277273\n",
      "Validation loss after itaration 1: 0.234386\n",
      "Time: 74m 39s\n",
      "\n",
      "Train loss after itaration 2: 0.219127\n",
      "Validation loss after itaration 2: 0.229468\n",
      "Time: 73m 50s\n",
      "\n",
      "Train loss after itaration 3: 0.193387\n",
      "Validation loss after itaration 3: 0.237963\n",
      "Time: 74m 3s\n"
     ]
    }
   ],
   "source": [
    "\n",
    "\n",
    "train_losses = []\n",
    "val_losses = []\n",
    "num_mb_train = len(train_dataloader)\n",
    "num_mb_val = len(val_dataloader)\n",
    "\n",
    "if num_mb_val == 0:\n",
    "    num_mb_val = 1\n",
    "\n",
    "for n in range(num_epochs):\n",
    "    train_loss = 0\n",
    "    val_loss = 0\n",
    "    start_time = time.time()\n",
    "    \n",
    "    for k, (mb_x, mb_m, mb_y) in enumerate(train_dataloader):\n",
    "        optimizer.zero_grad()\n",
    "        model.train()\n",
    "        \n",
    "        mb_x = mb_x.to(device)\n",
    "        mb_m = mb_m.to(device)\n",
    "        mb_y = mb_y.to(device)\n",
    "        \n",
    "        outputs = model(mb_x, attention_mask=mb_m, labels=mb_y)\n",
    "        \n",
    "        loss = outputs[0]\n",
    "        #loss = model_loss(outputs[1], mb_y)\n",
    "        loss.backward()\n",
    "        torch.nn.utils.clip_grad_norm_(model.parameters(), 1.0)\n",
    "        optimizer.step()\n",
    "        scheduler.step()\n",
    "        \n",
    "        train_loss += loss.data / num_mb_train\n",
    "    \n",
    "    print (\"\\nTrain loss after itaration %i: %f\" % (n+1, train_loss))\n",
    "    train_losses.append(train_loss.cpu())\n",
    "    \n",
    "    with torch.no_grad():\n",
    "        model.eval()\n",
    "        \n",
    "        for k, (mb_x, mb_m, mb_y) in enumerate(val_dataloader):\n",
    "            mb_x = mb_x.to(device)\n",
    "            mb_m = mb_m.to(device)\n",
    "            mb_y = mb_y.to(device)\n",
    "        \n",
    "            outputs = model(mb_x, attention_mask=mb_m, labels=mb_y)\n",
    "            \n",
    "            loss = outputs[0]\n",
    "            #loss = model_loss(outputs[1], mb_y)\n",
    "            \n",
    "            val_loss += loss.data / num_mb_val\n",
    "            \n",
    "        print (\"Validation loss after itaration %i: %f\" % (n+1, val_loss))\n",
    "        val_losses.append(val_loss.cpu())\n",
    "    \n",
    "    end_time = time.time()\n",
    "    epoch_mins, epoch_secs = epoch_time(start_time, end_time)\n",
    "    print(f'Time: {epoch_mins}m {epoch_secs}s')"
   ]
  },
  {
   "cell_type": "code",
   "execution_count": 48,
   "metadata": {},
   "outputs": [
    {
     "data": {
      "text/plain": [
       "[<matplotlib.lines.Line2D at 0x178a402e0c8>]"
      ]
     },
     "execution_count": 48,
     "metadata": {},
     "output_type": "execute_result"
    },
    {
     "data": {
      "image/png": "[encoded data removed]",
      "text/plain": [
       "<Figure size 432x288 with 1 Axes>"
      ]
     },
     "metadata": {
      "needs_background": "light"
     },
     "output_type": "display_data"
    }
   ],
   "source": [
    "from matplotlib import pyplot as plt\n",
    "%matplotlib inline\n",
    "\n",
    "plt.figure()\n",
    "plt.plot(train_losses)"
   ]
  },
  {
   "cell_type": "code",
   "execution_count": 49,
   "metadata": {},
   "outputs": [
    {
     "data": {
      "text/plain": [
       "[<matplotlib.lines.Line2D at 0x178a88c4488>]"
      ]
     },
     "execution_count": 49,
     "metadata": {},
     "output_type": "execute_result"
    },
    {
     "data": {
      "image/png": "[encoded data removed]",
      "text/plain": [
       "<Figure size 432x288 with 1 Axes>"
      ]
     },
     "metadata": {
      "needs_background": "light"
     },
     "output_type": "display_data"
    }
   ],
   "source": [
    "plt.figure()\n",
    "plt.plot(val_losses)"
   ]
  },
  {
   "cell_type": "code",
   "execution_count": 50,
   "metadata": {},
   "outputs": [],
   "source": [
    "batch_size = 32\n",
    "\n",
    "test_data = TensorDataset(test_x, test_m)\n",
    "test_sampler = SequentialSampler(test_data)\n",
    "test_dataloader = DataLoader(test_data, sampler=test_sampler, batch_size=batch_size)\n",
    "\n",
    "outputs = []\n",
    "with torch.no_grad():\n",
    "    model.eval()\n",
    "    for k, (mb_x, mb_m) in enumerate(test_dataloader):\n",
    "        mb_x = mb_x.to(device)\n",
    "        mb_m = mb_m.to(device)\n",
    "        output = model(mb_x, attention_mask=mb_m)\n",
    "        outputs.append(output[0].to('cpu'))\n",
    "\n",
    "outputs = torch.cat(outputs)"
   ]
  },
  {
   "cell_type": "code",
   "execution_count": 51,
   "metadata": {},
   "outputs": [],
   "source": [
    "_, predicted_values = torch.max(outputs, 1)\n",
    "predicted_values = predicted_values.numpy()\n",
    "true_values = test_y.numpy()"
   ]
  },
  {
   "cell_type": "code",
   "execution_count": 52,
   "metadata": {},
   "outputs": [
    {
     "name": "stdout",
     "output_type": "stream",
     "text": [
      "Test Accuracy: 0.9067127344521224\n"
     ]
    }
   ],
   "source": [
    "test_accuracy = np.sum(predicted_values == true_values) / len(true_values)\n",
    "print (\"Test Accuracy:\", test_accuracy)"
   ]
  },
  {
   "cell_type": "code",
   "execution_count": 53,
   "metadata": {},
   "outputs": [
    {
     "name": "stdout",
     "output_type": "stream",
     "text": [
      "              precision    recall  f1-score   support\n",
      "\n",
      "           0       0.93      0.97      0.95      3577\n",
      "           1       0.65      0.45      0.53       475\n",
      "\n",
      "    accuracy                           0.91      4052\n",
      "   macro avg       0.79      0.71      0.74      4052\n",
      "weighted avg       0.90      0.91      0.90      4052\n",
      "\n"
     ]
    }
   ],
   "source": [
    "from sklearn.metrics import classification_report\n",
    "\n",
    "print(classification_report(true_values, predicted_values, target_names=[str(l) for l in label_values]))"
   ]
  },
  {
   "cell_type": "code",
   "execution_count": null,
   "metadata": {},
   "outputs": [],
   "source": []
  },
  {
   "cell_type": "code",
   "execution_count": null,
   "metadata": {},
   "outputs": [],
   "source": []
  },
  {
   "cell_type": "code",
   "execution_count": null,
   "metadata": {},
   "outputs": [],
   "source": []
  }
 ],
 "metadata": {
  "kernelspec": {
   "display_name": "Python 3",
   "language": "python",
   "name": "python3"
  },
  "language_info": {
   "codemirror_mode": {
    "name": "ipython",
    "version": 3
   },
   "file_extension": ".py",
   "mimetype": "text/x-python",
   "name": "python",
   "nbconvert_exporter": "python",
   "pygments_lexer": "ipython3",
   "version": "3.7.9"
  }
 },
 "nbformat": 4,
 "nbformat_minor": 4
}
